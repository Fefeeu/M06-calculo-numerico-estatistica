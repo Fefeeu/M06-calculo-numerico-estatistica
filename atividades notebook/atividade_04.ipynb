{
  "cells": [
    {
      "cell_type": "markdown",
      "source": [
        "## Nome: Felipe Ferreira de Carvalho Gabriel Pereira\n",
        "## Matricula: 380"
      ],
      "metadata": {
        "id": "b16fb5f3"
      },
      "id": "b16fb5f3"
    },
    {
      "cell_type": "markdown",
      "source": [
        "---"
      ],
      "metadata": {
        "id": "49f05b5a"
      },
      "id": "49f05b5a"
    },
    {
      "cell_type": "markdown",
      "source": [
        "## **Atividade 4** – Zeros de Funções: Refinamento de Raízes Reais pelo Método de Newton–Raphson\n",
        "\n",
        "**Objetivo:** neste notebook, você irá **aplicar o método de Newton–Raphson** e **refinar raízes reais** em problemas contextualizados.  \n",
        "Você encontrará **códigos-base, imports e células-guia** para implementar o método, analisar convergência e responder às questões propostas.\n",
        "\n",
        "Material de apoio:\n",
        "* https://youtu.be/gpaXPYKDWJg?si=1yG79BmrI7GQgzXY\n",
        "* https://flexiple.com/python/newton-raphson-method-python\n",
        "\n",
        "> Importante: execute as células na ordem. Se precisar, reinicie o kernel e rode tudo novamente.\n",
        "\n"
      ],
      "metadata": {
        "id": "53b490c0"
      },
      "id": "53b490c0"
    },
    {
      "cell_type": "markdown",
      "source": [
        "---\n",
        "# Método de Newton–Raphson\n",
        "\n",
        "O **Método de Newton–Raphson** é um método iterativo usado para encontrar raízes de equações reais, isto é, soluções para $f(x)=0$, onde $f(x)$ é uma função derivável. Ele constrói uma sequência de aproximações da raiz utilizando a derivada da função a cada iteração.\n",
        "\n",
        "## Como funciona\n",
        "\n",
        "1. **Chute inicial:**\n",
        "   Começa-se com um valor inicial $x_0$ próximo à raiz desejada.\n",
        "\n",
        "2. **Tangente:**\n",
        "   Traça-se a reta tangente ao gráfico de $f(x)$ no ponto $(x_0, f(x_0))$.\n",
        "\n",
        "3. **Próxima aproximação:**\n",
        "   A próxima aproximação $x_1$ é o ponto onde essa tangente intercepta o eixo $x$.\n",
        "\n",
        "4. **Iteração:**\n",
        "   Repete-se o processo (passos 2 e 3) com a nova aproximação $x_1$ até que a diferença entre duas iterações sucessivas seja menor que uma tolerância (erro máximo) especificada.\n",
        "\n",
        "## Fórmula\n",
        "\n",
        "A fórmula principal do método é:\n",
        "\n",
        "$$\n",
        "x_{n+1} = x_n - \\frac{f(x_n)}{f'(x_n)}\n",
        "$$\n",
        "\n",
        "**Onde:**\n",
        "\n",
        "* $x_{n+1}$ é a próxima aproximação da raiz;\n",
        "* $x_n$ é a aproximação atual;\n",
        "* $f(x_n)$ é o valor da função na aproximação atual;\n",
        "* $f'(x_n)$ é o valor da derivada da função na aproximação atual.\n"
      ],
      "metadata": {
        "id": "iUmYwz2t2bSi"
      },
      "id": "iUmYwz2t2bSi"
    },
    {
      "cell_type": "markdown",
      "source": [
        "---\n",
        "# Códigos auxiliares para o desenvolvimento das questões.\n",
        "> **Observação:** Realize as alterações necessárias."
      ],
      "metadata": {
        "id": "JpTGH3d27U4F"
      },
      "id": "JpTGH3d27U4F"
    },
    {
      "cell_type": "code",
      "source": [
        "import numpy as np\n",
        "import matplotlib.pyplot as plt"
      ],
      "outputs": [],
      "execution_count": 1,
      "metadata": {
        "id": "0CCL3We_Cnue"
      },
      "id": "0CCL3We_Cnue"
    },
    {
      "cell_type": "code",
      "source": [
        "# Defina a função de destino cuja raiz você deseja encontrar\n",
        "def target_function(x):\n",
        "    return x**3 - 5*x**2 + 2*x + 1 # <- Modifique conforme o enunciado\n",
        "\n",
        "# Calcula a derivada da função\n",
        "def derivative_function(x):\n",
        "    return 3*x**2 - 10*x + 2 # <- Calcule a derivada da função e modifique"
      ],
      "outputs": [],
      "execution_count": 2,
      "metadata": {
        "id": "110E7XCqk-IJ"
      },
      "id": "110E7XCqk-IJ"
    },
    {
      "cell_type": "code",
      "source": [
        "# implementa o processo de iteração usando a fórmula de Newton-Raphson\n",
        "def newton_raphson_method(initial_guess, tolerance, max_iterations):\n",
        "    \"\"\"\n",
        "    Aplica o método de Newton–Raphson para aproximar uma raiz de target_function(x).\n",
        "\n",
        "    :param initial_guess: chute inicial x0\n",
        "    :param tolerance: tolerância para parada (critério |f(x)| < tolerance)\n",
        "    :param max_iterations: número máximo de iterações\n",
        "    :return: raiz aproximada (float)\n",
        "    \"\"\"\n",
        "    x_n = initial_guess\n",
        "    for iteration in range(max_iterations):\n",
        "        f_x = target_function(x_n)\n",
        "        f_prime_x = derivative_function(x_n)\n",
        "\n",
        "        if abs(f_x) < tolerance:\n",
        "            break\n",
        "\n",
        "        x_n = x_n - f_x / f_prime_x\n",
        "\n",
        "    return x_n"
      ],
      "outputs": [],
      "execution_count": 3,
      "metadata": {
        "id": "NNfBqILInwqP"
      },
      "id": "NNfBqILInwqP"
    },
    {
      "cell_type": "code",
      "source": [
        "initial_guess  = 8.0     # chute inicial\n",
        "tolerance      = 1e-9    # tolerância\n",
        "max_iterations = 250     # máximo de iterações"
      ],
      "outputs": [],
      "execution_count": 4,
      "metadata": {
        "id": "1lCgvBIdpHYs"
      },
      "id": "1lCgvBIdpHYs"
    },
    {
      "cell_type": "code",
      "source": [
        "# Plota o gráfico da função e raiz(es)\n",
        "def plot_function_and_roots(xmin, xmax, roots=None):\n",
        "    \"\"\"\n",
        "    Plota target_function(x) no intervalo [xmin, xmax] e marca raízes (se fornecidas).\n",
        "    :param xmin: limite inferior do eixo x\n",
        "    :param xmax: limite superior do eixo x\n",
        "    :param roots: lista de raízes para destacar (ex.: [root]) ou None\n",
        "    :param titulo: título do gráfico\n",
        "    \"\"\"\n",
        "    xs = np.linspace(xmin, xmax, 400)\n",
        "    ys = [target_function(x) for x in xs]\n",
        "\n",
        "    plt.figure(figsize=(6,4))\n",
        "    plt.axhline(0, linewidth=1)        # eixo x\n",
        "    plt.plot(xs, ys, linewidth=2)      # f(x)\n",
        "\n",
        "    if roots:\n",
        "        for r in roots:\n",
        "            plt.scatter([r], [target_function(r)], s=60, zorder=3)\n",
        "            plt.axvline(r, linestyle='--', linewidth=1)\n",
        "            plt.text(r, 0, f\"{r:.4g}\", ha='center', va='bottom')\n",
        "\n",
        "    plt.xlim(xmin, xmax)\n",
        "    plt.xlabel(\"x\"); plt.ylabel(\"f(x)\")\n",
        "    plt.title(\"Título\")\n",
        "    plt.grid(True, alpha=0.3)\n",
        "    plt.show()"
      ],
      "outputs": [],
      "execution_count": 9,
      "metadata": {
        "id": "XlbeVbTADeM6"
      },
      "id": "XlbeVbTADeM6"
    },
    {
      "cell_type": "code",
      "source": [
        "root = newton_raphson_method(initial_guess, tolerance, max_iterations)\n",
        "print(\"Raiz estimada:\", root)\n",
        "plot_function_and_roots(-2, 8, roots=[root])"
      ],
      "outputs": [
        {
          "output_type": "stream",
          "name": "stdout",
          "text": [
            "Raiz estimada: 4.507018644092977\n"
          ]
        },
        {
          "output_type": "display_data",
          "data": {
            "text/plain": [
              "<Figure size 600x400 with 1 Axes>"
            ],
            "image/png": "[encoded data removed]"
          },
          "metadata": {}
        }
      ],
      "execution_count": 8,
      "metadata": {
        "id": "ySstTobhOGBl",
        "colab": {
          "base_uri": "https://localhost:8080/",
          "height": 427
        },
        "outputId": "ce0447f6-e211-4831-94c4-9b008155eb97"
      },
      "id": "ySstTobhOGBl"
    },
    {
      "cell_type": "markdown",
      "source": [
        "---\n",
        "### Parte Prática:\n",
        "> Utilizando os códigos fornecidos, faça o que se pede.\n",
        "\n",
        "## Questão 1 — Determinar as raízes da função:\n",
        "\n",
        "**Enunciado.** Considere a função\n",
        "\n",
        "$$\n",
        "f(x)=x^3-9x+3.\n",
        "$$\n",
        "\n",
        "Determine a **raiz** no intervalo $[0,1]$ usando o **método de Newton–Raphson** com erro máximo de $10^{-2}$.\n",
        "\n",
        "**Dados:**\n",
        "\n",
        "* **Tolerância:** $\\varepsilon = 10^{-2}$\n",
        "* **Chute inicial:** $x_0 = 0{,}5$\n",
        "* **Máximo de iterações:** $N_{\\max} = 50$\n",
        "\n"
      ],
      "metadata": {
        "id": "akee3Nh30NEn"
      },
      "id": "akee3Nh30NEn"
    },
    {
      "cell_type": "markdown",
      "source": [
        "a) Encontre a derivada da função:"
      ],
      "metadata": {
        "id": "Hu5_zbi4LKOp"
      },
      "id": "Hu5_zbi4LKOp"
    },
    {
      "cell_type": "markdown",
      "source": [
        ":Resposta: 3x^2 - 9"
      ],
      "metadata": {
        "id": "TYbGAw7NLOfd"
      },
      "id": "TYbGAw7NLOfd"
    },
    {
      "cell_type": "markdown",
      "source": [
        "b) Valor aproximado da raiz:"
      ],
      "metadata": {
        "id": "8dNXk3kR90lt"
      },
      "id": "8dNXk3kR90lt"
    },
    {
      "cell_type": "code",
      "source": [
        "def target_function(x):\n",
        "    return x**3 - 9*x + 3\n",
        "\n",
        "def derivative_function(x):\n",
        "    return 3*x**2 - 9\n",
        "\n",
        "def newton_raphson_method(initial_guess, tolerance, max_iterations):\n",
        "    x_n = initial_guess\n",
        "    ultima_iteracao = 0\n",
        "    for iteration in range(max_iterations):\n",
        "        f_x = target_function(x_n)\n",
        "        f_prime_x = derivative_function(x_n)\n",
        "\n",
        "        if abs(f_x) < tolerance:\n",
        "            ultima_iteracao = iteration + 1\n",
        "            break\n",
        "\n",
        "        x_n = x_n - f_x / f_prime_x\n",
        "\n",
        "    return x_n, ultima_iteracao\n",
        "\n",
        "valor_inicial = 0.5\n",
        "tolerance = 1e-2\n",
        "iteracoes_maximas = 50\n",
        "\n",
        "raiz_aproximada, ultima_iteracao = newton_raphson_method(valor_inicial, tolerance, iteracoes_maximas)\n",
        "print(raiz_aproximada)"
      ],
      "outputs": [
        {
          "output_type": "stream",
          "name": "stdout",
          "text": [
            "0.33760683760683763\n"
          ]
        }
      ],
      "execution_count": 14,
      "metadata": {
        "id": "Gwv4UJ4HDwHn",
        "colab": {
          "base_uri": "https://localhost:8080/"
        },
        "outputId": "224cc0ec-d90c-4b39-819d-6ce4fd017b88"
      },
      "id": "Gwv4UJ4HDwHn"
    },
    {
      "cell_type": "markdown",
      "source": [
        "c) Número de iterações realizadas até atingir o critério de parada:"
      ],
      "metadata": {
        "id": "oMGSsn1T98EW"
      },
      "id": "oMGSsn1T98EW"
    },
    {
      "cell_type": "code",
      "source": [
        "print(ultima_iteracao)"
      ],
      "outputs": [
        {
          "output_type": "stream",
          "name": "stdout",
          "text": [
            "3\n"
          ]
        }
      ],
      "execution_count": 15,
      "metadata": {
        "id": "AtyTFVjj9-Zw",
        "colab": {
          "base_uri": "https://localhost:8080/"
        },
        "outputId": "1f189bf6-315c-4440-bea8-25c2f27ef295"
      },
      "id": "AtyTFVjj9-Zw"
    },
    {
      "cell_type": "markdown",
      "source": [
        "d) Plote o gráfico da função e a raíz encontrada:\n",
        "\n",
        "\n",
        "\n"
      ],
      "metadata": {
        "id": "v69XLI5HDxdo"
      },
      "id": "v69XLI5HDxdo"
    },
    {
      "cell_type": "code",
      "source": [
        "plot_function_and_roots(0, 1, [raiz_aproximada])"
      ],
      "outputs": [
        {
          "output_type": "display_data",
          "data": {
            "text/plain": [
              "<Figure size 600x400 with 1 Axes>"
            ],
            "image/png": "[encoded data removed]"
          },
          "metadata": {}
        }
      ],
      "execution_count": 17,
      "metadata": {
        "id": "njGIu1_OECk_",
        "colab": {
          "base_uri": "https://localhost:8080/",
          "height": 410
        },
        "outputId": "7918548a-4dfe-4aeb-f167-17948e12dc36"
      },
      "id": "njGIu1_OECk_"
    },
    {
      "cell_type": "markdown",
      "source": [
        "## Questão 2 — Deflexão de uma mola levemente não linear\n",
        "\n",
        "Uma mola real apresenta leve não linearidade. A deflexão $x$ (em metros) sob uma força aplicada $F$ pode ser aproximada por:\n",
        "\n",
        "$$\n",
        "f(x) = k\\,x + \\alpha\\,x^3 - F = 0.\n",
        "$$\n",
        "\n",
        "**Dados:**\n",
        "\n",
        "* Rigidez linear $k = 180$ (unidades coerentes)\n",
        "* Não linearidade $\\alpha = 8$\n",
        "* Força aplicada $F = 60$\n",
        "* Intervalo de interesse: $x \\in [0,\\;0{,}6]$\n",
        "\n",
        "* **Tolerância:** $\\varepsilon = 10^{-2}$\n",
        "* **Chute inicial:** $x_0 = 0{,}3$\n",
        "* **Máximo de iterações:** $N_{\\max} = 100$\n"
      ],
      "metadata": {
        "id": "7MZQS_2TJyfq"
      },
      "id": "7MZQS_2TJyfq"
    },
    {
      "cell_type": "markdown",
      "source": [
        "a) Encontre a derivada da função:"
      ],
      "metadata": {
        "id": "2SY9jd28KwuI"
      },
      "id": "2SY9jd28KwuI"
    },
    {
      "cell_type": "markdown",
      "source": [
        "Resposta: 180 + 24*x^2"
      ],
      "metadata": {
        "id": "6IbVTtgQK6oF"
      },
      "id": "6IbVTtgQK6oF"
    },
    {
      "cell_type": "markdown",
      "source": [
        "b) Valor aproximado da raiz no intervalo:"
      ],
      "metadata": {
        "id": "9_X-U0fNKQMd"
      },
      "id": "9_X-U0fNKQMd"
    },
    {
      "cell_type": "code",
      "source": [
        "def target_function(x):\n",
        "    return 180*x + 8*x**3 - 60\n",
        "\n",
        "def derivative_function(x):\n",
        "    return 180 - 24*x**2\n",
        "\n",
        "valor_inicial = 0.3\n",
        "tolerancia = 1e-2\n",
        "iteracoes_maximas = 100\n",
        "\n",
        "raiz_aproximada, ultima_iteracao = newton_raphson_method(valor_inicial, tolerancia, iteracoes_maximas)\n",
        "\n",
        "print(raiz_aproximada)"
      ],
      "outputs": [
        {
          "output_type": "stream",
          "name": "stdout",
          "text": [
            "0.33168687343813325\n"
          ]
        }
      ],
      "execution_count": 23,
      "metadata": {
        "id": "hjaLnaoHKPm8",
        "colab": {
          "base_uri": "https://localhost:8080/"
        },
        "outputId": "8e9b31f1-16bf-4380-9326-174893424c74"
      },
      "id": "hjaLnaoHKPm8"
    },
    {
      "cell_type": "markdown",
      "source": [
        "c) Número de iterações realizadas até atingir o critério de parada:"
      ],
      "metadata": {
        "id": "SPMCpNYJKgsh"
      },
      "id": "SPMCpNYJKgsh"
    },
    {
      "cell_type": "code",
      "source": [
        "print(ultima_iteracao)"
      ],
      "outputs": [
        {
          "output_type": "stream",
          "name": "stdout",
          "text": [
            "3\n"
          ]
        }
      ],
      "execution_count": 24,
      "metadata": {
        "id": "SWuSr59LKjxe",
        "colab": {
          "base_uri": "https://localhost:8080/"
        },
        "outputId": "a00dd904-9818-4653-9e19-095b46c56f1b"
      },
      "id": "SWuSr59LKjxe"
    },
    {
      "cell_type": "markdown",
      "source": [],
      "metadata": {
        "id": "hQFOQlzvtuPB"
      },
      "id": "hQFOQlzvtuPB"
    },
    {
      "cell_type": "markdown",
      "source": [
        "d) Plote o gráfico da função e a raíz encontrada:"
      ],
      "metadata": {
        "id": "sqrCkjszKkK9"
      },
      "id": "sqrCkjszKkK9"
    },
    {
      "cell_type": "code",
      "source": [
        "plot_function_and_roots(0, 0.6, [raiz_aproximada])"
      ],
      "outputs": [
        {
          "output_type": "display_data",
          "data": {
            "text/plain": [
              "<Figure size 600x400 with 1 Axes>"
            ],
            "image/png": "[encoded data removed]"
          },
          "metadata": {}
        }
      ],
      "execution_count": 28,
      "metadata": {
        "id": "NhmCEtSxKt0_",
        "colab": {
          "base_uri": "https://localhost:8080/",
          "height": 410
        },
        "outputId": "bfa34bc0-d3d9-4ff3-e371-c4e58ddf015e"
      },
      "id": "NhmCEtSxKt0_"
    },
    {
      "cell_type": "markdown",
      "source": [
        "---\n",
        "### Parte Teórica:\n",
        ">**Instruções:** assinale **V** (verdadeiro) ou **F** (falso) em cada afirmativa. **Justifique se for falso**.\n",
        "\n"
      ],
      "metadata": {
        "id": "07a9097c"
      },
      "id": "07a9097c"
    },
    {
      "cell_type": "markdown",
      "source": [
        "a) Uma desvantagem de usar $\\lvert f(x_k)\\rvert < \\varepsilon$ como critério de parada é que a função pode apenas chegar próximo de $0$, mas não cruzar o eixo $x$.\n",
        "\n",
        "> Adicionar aspas\n",
        "\n"
      ],
      "metadata": {
        "id": "gLpL9K8W_zA6"
      },
      "id": "gLpL9K8W_zA6"
    },
    {
      "cell_type": "markdown",
      "source": [
        "Resposta: **Falso**, pois pode acontecer de x_k ser exatamente a raiz de x_k, ou seja $\\lvert f(x_k)\\rvert < \\varepsilon$ pode ser verdadeiro se $\\lvert f(x_k)\\rvert = 0$, já que $\\varepsilon > 0$"
      ],
      "metadata": {
        "id": "36vpWuIT_z6N"
      },
      "id": "36vpWuIT_z6N"
    },
    {
      "cell_type": "markdown",
      "source": [
        "b) Dado um intervalo $[a,b]$, se $f$ é contínua, $f(a) > 0$ e $f(b) > 0$, então não há raiz real no intervalo $[a,b]$."
      ],
      "metadata": {
        "id": "uIjUex6J_6Ku"
      },
      "id": "uIjUex6J_6Ku"
    },
    {
      "cell_type": "markdown",
      "source": [
        "Resposta: **Verdadeiro**"
      ],
      "metadata": {
        "id": "xW0hYRPM_7NK"
      },
      "id": "xW0hYRPM_7NK"
    },
    {
      "cell_type": "markdown",
      "source": [
        "c) Dado um intervalo $[a,b]$, se $f$ é contínua, $f(a) > 0$ e $f(b) < 0$, então há exatamente uma única raiz real no intervalo $[a,b]$."
      ],
      "metadata": {
        "id": "elJiar--ABp8"
      },
      "id": "elJiar--ABp8"
    },
    {
      "cell_type": "markdown",
      "source": [
        "Resposta: **Falso**, pois pode existir varias raises entre esses dois valores, a unica coisa que isso define é que existe pelo menos uma raiz nesse intervalo"
      ],
      "metadata": {
        "id": "hDdHm4N0ACtv"
      },
      "id": "hDdHm4N0ACtv"
    },
    {
      "cell_type": "markdown",
      "source": [
        "d) O método de Newton terá uma melhor convergência se já estiver próximo da raiz."
      ],
      "metadata": {
        "id": "zv07tnKNAISG"
      },
      "id": "zv07tnKNAISG"
    },
    {
      "cell_type": "markdown",
      "source": [
        " Resposta: **Verdadeiro**"
      ],
      "metadata": {
        "id": "3e6hSHW8AJMz"
      },
      "id": "3e6hSHW8AJMz"
    }
  ],
  "metadata": {
    "colab": {
      "provenance": []
    },
    "kernelspec": {
      "name": "python",
      "language": "python",
      "display_name": "Pyolite (preview)"
    },
    "language_info": {
      "codemirror_mode": {
        "name": "python",
        "version": 3
      },
      "file_extension": ".py",
      "mimetype": "text/x-python",
      "name": "python",
      "nbconvert_exporter": "python",
      "pygments_lexer": "ipython3",
      "version": "3.8"
    },
    "kernel_info": {
      "name": "python"
    },
    "nteract": {
      "version": "nteract-front-end@1.0.0"
    }
  },
  "nbformat": 4,
  "nbformat_minor": 5
}